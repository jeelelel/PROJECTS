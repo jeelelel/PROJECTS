{
 "cells": [
  {
   "cell_type": "markdown",
   "metadata": {},
   "source": [
    "# <span style=\"color:#0b486b\">  FIT3181: Deep Learning (2022)</span>\n",
    "***\n",
    "*CE/Lecturer:* Dr **Trung Le** | trunglm@monash.edu <br/>\n",
    "*Head Tutor:* Mr **Thanh Nguyen** | thanh.nguyen4@monash.edu  <br/>\n",
    "<br/>\n",
    "Department of Data Science and AI, Faculty of Information Technology, Monash University, Australia\n",
    "***"
   ]
  },
  {
   "cell_type": "markdown",
   "metadata": {},
   "source": [
    "# <span style=\"color:#0b486b\">  Student Information</span>\n",
    "***\n",
    "Surname: **Lim**  <br/>\n",
    "Firstname: **Jessica**    <br/>\n",
    "Student ID: **31954081**    <br/>\n",
    "Email: **jlim0154@student.monash.edu**    <br/>\n",
    "Your tutorial time: **Friday 2PM**    <br/>\n",
    "***"
   ]
  },
  {
   "cell_type": "markdown",
   "metadata": {},
   "source": [
    "# <span style=\"color:#0b486b\">Deep Neural Networks</span>\n",
    "### Due: <span style=\"color:red\">11:59pm Sunday, 18 September 2022</span>  (Sunday)\n",
    "\n",
    "#### <span style=\"color:red\">Important note:</span> This is an **individual** assignment. It contributes **20%** to your final mark. Read the assignment instruction carefully."
   ]
  },
  {
   "cell_type": "markdown",
   "metadata": {},
   "source": [
    "## <span style=\"color:#0b486b\">Instruction</span>\n",
    "\n",
    "This notebook has been prepared for your to complete Assignment 1. The theme of this assignment is about practical machine learning knowledge and skills in deep neural networks, including feedforward and convolutional neural networks. Some sections have been partially completed to help you get\n",
    "started. **The total marks for this notebook is 100**.\n",
    "\n",
    "* Before you start, read the entire notebook carefully once to understand what you need to do. <br/>\n",
    "\n",
    "* For each cell marked with **#YOU ARE REQUIRED TO INSERT YOUR CODES IN THIS CELL**, there will be places where you **must** supply your own codes when instructed. <br>\n",
    "\n",
    "This assignment contains **three** parts:\n",
    "\n",
    "* Part 1: Questions on theory and knowledge on machine learning and deep learning **[30 points], 30%**\n",
    "* Part 2: Coding assessment on TensorFlow for Deep Neural Networks (DNN) **[30 points], 30%**\n",
    "* Part 3: Coding assessment on TensorFlow for Convolution Neural Networks (CNN) **[40 points], 40%**\n",
    "\n",
    "**Hint**: This assignment was essentially designed based on the lectures and tutorials sessions covered from Week 1 to Week 6. You are strongly recommended to go through these contents thoroughly which might help you to complete this assignment."
   ]
  },
  {
   "cell_type": "markdown",
   "metadata": {},
   "source": [
    "## <span style=\"color:#0b486b\">What to submit</span>\n",
    "\n",
    "This assignment is to be completed individually and submitted to Moodle unit site. **By the due date, you are required to submit one  <span style=\"color:red; font-weight:bold\">single zip file, named xxx_assignment01_solution.zip</span> where `xxx` is your student ID, to the corresponding Assignment (Dropbox) in Moodle**. "
   ]
  },
  {
   "cell_type": "markdown",
   "metadata": {},
   "source": [
    "***For example, if your student ID is <span style=\"color:red; font-weight:bold\">12356</span>, then gather all of your assignment solution to folder, create a zip file named <span style=\"color:red; font-weight:bold\">123456_assignment01_solution.zip</span> and submit this file.***"
   ]
  },
  {
   "cell_type": "markdown",
   "metadata": {},
   "source": [
    "Within this zip folder, you **must** submit the following files:\n",
    "1.\t**Assignment01_solution.ipynb**:  this is your Python notebook solution source file.\n",
    "1.\t**Assignment01_output.html**: this is the output of your Python notebook solution *exported* in html format.\n",
    "1.\tAny **extra files or folder** needed to complete your assignment (e.g., images used in your answers)."
   ]
  },
  {
   "cell_type": "markdown",
   "metadata": {},
   "source": [
    "Since the notebook is quite big to load and work together, one recommended option is to split solution into three parts and work on them seperately. In that case, replace **Assignment01_solution.ipynb** by three notebooks: **Assignment01_Part1_solution.ipynb**, **Assignment01_Part2_solution.ipynb** and **Assignment01_Part3_solution.ipynb**"
   ]
  },
  {
   "cell_type": "markdown",
   "metadata": {},
   "source": [
    "**You can run your codes on Google Colab. In this case, you need to capture the screenshots of your Google Colab model training and put in corresponding places in your Jupyter notebook. You also need to store your trained models to folder <span style=\"color:red; font-weight:bold\">*./models*</span> with recognizable file names (e.g., Part3_Sec3_2_model.h5).** "
   ]
  },
  {
   "cell_type": "markdown",
   "metadata": {},
   "source": [
    "## <span style=\"color:#0b486b\">Part 1: Theory and Knowledge Questions</span>\n",
    "<div style=\"text-align: right\"><span style=\"color:red; font-weight:bold\">[Total marks for this part: 30 points]<span></div>"
   ]
  },
  {
   "cell_type": "markdown",
   "metadata": {},
   "source": [
    "The first part of this assignment is for you to demonstrate your knowledge in deep learning that you have acquired from the lectures and tutorials materials. Most of the contents in this assignment are drawn from **the lectures and tutorials from weeks 1 to 3**. Going through these materials before attempting this part is highly recommended."
   ]
  },
  {
   "cell_type": "markdown",
   "metadata": {},
   "source": [
    "####  <span style=\"color:red\">**Question 1.1**</span> **Activation function plays an important role in modern Deep NNs. For each of the activation function below, state its output range, find its derivative (show your steps), and plot the activation fuction and its derivative**\n",
    "\n",
    "<span style=\"color:red\">**(a)**</span> Leaky ReLU: $\\text{LeakyReLU}\\left(x\\right)=\\begin{cases}\n",
    "0.01x & \\text{if}\\,x<0\\\\\n",
    "x & \\text{otherwise}\n",
    "\\end{cases}$ \n",
    "<div style=\"text-align: right\"><span style=\"color:red\">[1.5 points]</span></div> \n",
    "\n",
    "<span style=\"color:red\">**(b)**</span> Softplus: $\\text{Softplus}\\left(x\\right)=\\text{ln}\\left(1+e^{x}\\right)$\n",
    "<div style=\"text-align: right\"><span style=\"color:red\">[1.5 points]</span></div> "
   ]
  },
  {
   "cell_type": "markdown",
   "metadata": {},
   "source": [
    "<span style=\"color:#0b486b\"> **Numpy is possibly being used in the following questions. You need to import numpy here.** </span>"
   ]
  },
  {
   "cell_type": "code",
   "execution_count": 3,
   "metadata": {},
   "outputs": [],
   "source": [
    "import numpy as np\n",
    "#https://kawahara.ca/what-is-the-derivative-of-relu/#:~:text=The%20derivative%20of%20ReLU%20is%3A%20f%20%E2%80%B2%20%28x%29,x%20%3E%200%200%2C%20otherwise%20%2Fend%20short%20summary\n",
    "#a\n",
    "def LeakyRelu(x):\n",
    "    \"ReLu returns 0.01x if x>0, else x\"\n",
    "    #data = [0.01*x if x > 0 else x for value in x]\n",
    "    #return np.array(data, dtype=float)\n",
    "    #return np.maximum(0,x)\n",
    "    return np.where(x > 0, x, x * 0.01)\n",
    "\n",
    "#b\n",
    "def Softplus(x):\n",
    "    return np.log1p(np.exp(x))\n",
    "    #return (np.exp(x.T)/np.sum(np.exp(x.T))).T\n"
   ]
  },
  {
   "cell_type": "markdown",
   "metadata": {},
   "source": [
    "####  <span style=\"color:red\">**Question 1.2**</span> **Assume that we feed a data point $x$ with a ground-truth label $y=2$ to the feed-forward neural network with the ReLU activation function as shown in the following figure**\n",
    "<img src=\"Figures/Q2_P1.png\" width=\"500\" align=\"center\"/>\n",
    "\n",
    "https://towardsdatascience.com/forward-propagation-in-neural-networks-simplified-math-and-code-version-bbcfef6f9250\n",
    "\n",
    "<span style=\"color:red\">**(a)**</span>  What is the numerical value of the latent presentation $h^1(x)$?\n",
    "<div style=\"text-align: right\"><span style=\"color:red\">[1 point]</span></div> \n",
    "\n",
    "<span style=\"color:red\">**(b)**</span>  What is the numerical value of the latent presentation $h^2(x)$?\n",
    "<div style=\"text-align: right\"><span style=\"color:red\">[1 point]</span></div> \n",
    "\n",
    "<span style=\"color:red\">**(c)**</span>  What is the numerical value of the logit $h^3(x)$?\n",
    "<div style=\"text-align: right\"><span style=\"color:red\">[1 point]</span></div> \n",
    "\n",
    "\n",
    "<span style=\"color:red\">**(d)**</span>  What is the corresonding prediction probabilities $p(x)$?\n",
    "<div style=\"text-align: right\"><span style=\"color:red\">[1 point]</span></div> \n",
    "\n",
    "<span style=\"color:red\">**(e)**</span>  What is the cross-entropy loss caused by the feed-forward neural network at $(x,y)$? Remind that $y=2$.\n",
    "<div style=\"text-align: right\"><span style=\"color:red\">[1 point]</span></div> \n",
    "\n",
    "<span style=\"color:red\">**(e)**</span>  Assume that we are applying the label smoothing technique (i.e.,  [link for main paper](https://papers.nips.cc/paper/2019/file/f1748d6b0fd9d439f71450117eba2725-Paper.pdf) from Goeff Hinton) with $\\alpha = 0.1$. What is the relevant loss caused by the feed-forward neural network at $(x,y)$?\n",
    "<div style=\"text-align: right\"><span style=\"color:red\">[1 point]</span></div> \n",
    "\n",
    "\n",
    "**You need to show both formulas and numerical results for earning full mark. Although it is optional, it is great if you show your numpy code for your computation.**"
   ]
  },
  {
   "cell_type": "code",
   "execution_count": 4,
   "metadata": {},
   "outputs": [
    {
     "name": "stdout",
     "output_type": "stream",
     "text": [
      "h1 : [[4]\n",
      " [1]\n",
      " [6]\n",
      " [2]]\n",
      "h2 : [[2]\n",
      " [8]\n",
      " [0]]\n",
      "h3 : [[ 0]\n",
      " [18]\n",
      " [ 6]]\n",
      "p : [[1.52298859e-08]\n",
      " [9.99993841e-01]\n",
      " [6.14417451e-06]]\n",
      " Cross-entropy : 6.1594233637325895e-06\n"
     ]
    }
   ],
   "source": [
    "def relu(x):\n",
    "    return np.maximum(0,x)\n",
    "\n",
    "#b\n",
    "def softmax(x):\n",
    "    return (np.exp(x.T)/np.sum(np.exp(x.T))).T\n",
    "\n",
    "\n",
    "x = np.array([[1],[-1],[1]])\n",
    "y = 2\n",
    "\n",
    "w1 = np.array([[1, -1, 1],[1, -1, -1],[2, -1, 2],[-1, -2, 1]])\n",
    "b1 = np.array([[1,0,1,0]]).T\n",
    "\n",
    "w2 = np.array([[1, -1, -1, 2],[1, -1, 1, -1],[ -1, 2, -1, 2]])\n",
    "b2 = np.array([[1,1,0]]).T\n",
    "\n",
    "w3 = np.array([[1, -2, 1],[1, 2, -1],[-1, 1, -1]])\n",
    "b3 = np.array([[0,0,0]]).T\n",
    "\n",
    "#A\n",
    "h1 = relu((w1@x)+b1)\n",
    "print(\"h1 : \" + str(h1))\n",
    "\n",
    "#B\n",
    "h2 = relu((w2@h1)+b2)\n",
    "print(\"h2 : \" + str(h2))\n",
    "\n",
    "#C\n",
    "h3 = relu((w3@h2)+b3)\n",
    "print(\"h3 : \" + str(h3))\n",
    "\n",
    "#D\n",
    "p = softmax(h3)\n",
    "print(\"p : \" + str(p))\n",
    "\n",
    "#E\n",
    "ce = -np.log(p[y-1,0])\n",
    "print(\" Cross-entropy : \" + str(ce))\n",
    "\n"
   ]
  },
  {
   "cell_type": "markdown",
   "metadata": {},
   "source": [
    "####  <span style=\"color:red\">**Question 1.3**</span> **Assume that we are constructing a multilayered feed-forward neural network for a classification problem with three classes where the model parameters will be generated randomly using your student ID. The architecture of this network is ($3 (Input)\\rightarrow4(LeakyReLU)\\rightarrow 3(Output)$) as shown in the following figure. Note that the LeakyReLU has the same formula as the one in Q1.1.**\n",
    "\n",
    "\n",
    "<img src=\"Figures/Q3_P1.png\" width=\"500\" align=\"center\"/>\n",
    "\n",
    "We feed a feature vector $x=\\left[\\begin{array}{ccc}\n",
    "1 & -1 & 1.5\\end{array}\\right]^{T}$ with ground-truth label $y=3$ to the above network. \n"
   ]
  },
  {
   "cell_type": "markdown",
   "metadata": {},
   "source": [
    "**You need to show both formulas, numerical results, and your numpy code for your computation for earning full marks.**"
   ]
  },
  {
   "cell_type": "code",
   "execution_count": 5,
   "metadata": {},
   "outputs": [],
   "source": [
    "#Code to generate random matrices and biases for W1, b1, W2, b2\n",
    "import numpy as np\n",
    "student_id = 31954081           #insert your student id here for example 1234    \n",
    "np.random.seed(student_id)\n",
    "W1 = np.random.rand(4,3)\n",
    "b1 = np.random.rand(4,1)\n",
    "W2 = np.random.rand(3,4)\n",
    "b2 = np.random.rand(3,1)"
   ]
  },
  {
   "cell_type": "markdown",
   "metadata": {},
   "source": [
    "**Forward propagation**\n"
   ]
  },
  {
   "cell_type": "markdown",
   "metadata": {},
   "source": [
    "\n",
    "<img src=part1_img\\forward_propagation.jpg width=\"500\" align=\"center\"/>"
   ]
  },
  {
   "cell_type": "markdown",
   "metadata": {},
   "source": [
    "<span style=\"color:red\">**(a)**</span>  What is the value of $\\bar{h}^{1}(x)$?\n",
    "<div style=\"text-align: right\"><span style=\"color:red\">[1 point]</span></div>\n"
   ]
  },
  {
   "cell_type": "code",
   "execution_count": 6,
   "metadata": {},
   "outputs": [
    {
     "name": "stdout",
     "output_type": "stream",
     "text": [
      "h1_bar : [[4]\n",
      " [1]\n",
      " [6]\n",
      " [2]]\n"
     ]
    }
   ],
   "source": [
    "x = np.array([1,-1,1.5]).T\n",
    "y = 3\n",
    "\n",
    "h1_bar = (W1@x)+b1\n",
    "print(\"h1_bar : \" + str(h1))"
   ]
  },
  {
   "cell_type": "markdown",
   "metadata": {},
   "source": [
    "<span style=\"color:red\">**(b)**</span>  What is the value of $h^{1}(x)$?\n",
    "<div style=\"text-align: right\"><span style=\"color:red\">[1 point]</span></div>"
   ]
  },
  {
   "cell_type": "code",
   "execution_count": 7,
   "metadata": {},
   "outputs": [
    {
     "name": "stdout",
     "output_type": "stream",
     "text": [
      "h1 : [[4]\n",
      " [1]\n",
      " [6]\n",
      " [2]]\n"
     ]
    }
   ],
   "source": [
    "LeakyRelu(h1_bar)\n",
    "print(\"h1 : \" + str(h1))"
   ]
  },
  {
   "cell_type": "markdown",
   "metadata": {},
   "source": [
    "<span style=\"color:red\">**(c)**</span>  What is the predicted value $\\hat{y}$?\n",
    "<div style=\"text-align: right\"><span style=\"color:red\">[1 point]</span></div>"
   ]
  },
  {
   "cell_type": "code",
   "execution_count": 8,
   "metadata": {},
   "outputs": [
    {
     "name": "stdout",
     "output_type": "stream",
     "text": [
      "yhat : 0.07689846645306185\n"
     ]
    }
   ],
   "source": [
    "h2 = (W2@h1) + b2\n",
    "p = softmax(h2)\n",
    "yhat = p[y-1,0]\n",
    " \n",
    "print(\"yhat : \" + str(yhat))"
   ]
  },
  {
   "cell_type": "markdown",
   "metadata": {},
   "source": [
    "<span style=\"color:red\">**(d)**</span>  Suppose that we use the cross-entropy (CE) loss. What is the value of the CE loss $l$?\n",
    "<div style=\"text-align: right\"><span style=\"color:red\">[1 point]</span></div>"
   ]
  },
  {
   "cell_type": "code",
   "execution_count": 9,
   "metadata": {},
   "outputs": [
    {
     "name": "stdout",
     "output_type": "stream",
     "text": [
      "cross-entropy : 2.565269344762209\n"
     ]
    }
   ],
   "source": [
    "ce = -np.log(yhat)\n",
    "print(\"cross-entropy : \" + str(ce))"
   ]
  },
  {
   "cell_type": "markdown",
   "metadata": {},
   "source": [
    "**Backward propagation**\n",
    "\n",
    "<span style=\"color:red\">**(e)**</span> What are the derivatives $\\frac{\\partial l}{\\partial h^{2}},\\frac{\\partial l}{\\partial W^{2}}$, and $\\frac{\\partial l}{\\partial b^{2}}$? \n",
    "<div style=\"text-align: right\"><span style=\"color:red\">[6 points]</span></div>\n",
    "\n",
    "<img src=part1_img\\backward_propagation_e.jpg width=\"500\" align=\"center\"/>\n",
    "\n"
   ]
  },
  {
   "cell_type": "markdown",
   "metadata": {},
   "source": [
    "<span style=\"color:red\">**(e)**</span> What are the derivatives $\\frac{\\partial l}{\\partial h^{2}},\\frac{\\partial l}{\\partial W^{2}}$, and $\\frac{\\partial l}{\\partial b^{2}}$? \n",
    "<div style=\"text-align: right\"><span style=\"color:red\">[6 points]</span></div>\n"
   ]
  },
  {
   "cell_type": "code",
   "execution_count": 10,
   "metadata": {},
   "outputs": [
    {
     "name": "stdout",
     "output_type": "stream",
     "text": [
      "dl_dh2 : [[ 0.92163893  0.00146261 -0.92310153]]\n",
      "dl_dw2 : [[ 3.68655571e+00  9.21638927e-01  5.52983356e+00  1.84327785e+00]\n",
      " [ 5.85042627e-03  1.46260657e-03  8.77563941e-03  2.92521314e-03]\n",
      " [-3.69240613e+00 -9.23101534e-01 -5.53860920e+00 -1.84620307e+00]]\n",
      "dl_db2 : [[ 0.92163893  0.00146261 -0.92310153]]\n"
     ]
    }
   ],
   "source": [
    "g2 = p.T\n",
    "g2[0, y-1] -= 1\n",
    "\n",
    "dl_dh2 = g2\n",
    "print(\"dl_dh2 : \" + str(dl_dh2))\n",
    "\n",
    "dl_dw2 = g2.T@h1.T\n",
    "print(\"dl_dw2 : \" + str(dl_dw2))\n",
    "\n",
    "dl_db2 = g2\n",
    "print(\"dl_db2 : \" + str(dl_db2))"
   ]
  },
  {
   "cell_type": "markdown",
   "metadata": {},
   "source": [
    "<span style=\"color:red\">**(f)**</span> What are the derivatives $\\frac{\\partial l}{\\partial h^{1}}, \\frac{\\partial l}{\\partial \\bar{h}^{1}},\\frac{\\partial l}{\\partial W^{1}}$, and $\\frac{\\partial l}{\\partial b^{1}}$? \n",
    "<div style=\"text-align: right\"><span style=\"color:red\">[6 points]</span></div>\n",
    "\n",
    "<img src=part1_img\\backward_propagation_f.jpg width=\"500\" align=\"center\"/>"
   ]
  },
  {
   "cell_type": "code",
   "execution_count": 18,
   "metadata": {},
   "outputs": [
    {
     "name": "stdout",
     "output_type": "stream",
     "text": [
      "dl_dh :[[-0.14327729 -0.1182884   0.26612153  0.65178047]]\n",
      "dl_dhl_bar :[[-0.14327729 -0.1182884   0.26612153  0.65178047]]\n",
      "dl_dw :[ 1.  -1.   1.5]\n",
      "dl_db :[[-0.14327729 -0.1182884   0.26612153  0.65178047]]\n"
     ]
    }
   ],
   "source": [
    "g = g2@W2\n",
    "\n",
    "dl_dh = g\n",
    "print(\"dl_dh :\" + str(dl_dh))\n",
    "\n",
    "dhl_dhl_bar = np.diag(np.where(h1_bar.T>0,1,0.01)[0])\n",
    "\n",
    "g_bar = g@dhl_dhl_bar\n",
    "\n",
    "dl_dhl_bar = g_bar\n",
    "print(\"dl_dhl_bar :\" + str(dl_dhl_bar))\n",
    "\n",
    "dl_dw = g_bar.T@x.T\n",
    "print(\"dl_dw :\" + str(dl_dw))\n",
    "\n",
    "dl_db = g_bar\n",
    "print(\"dl_db :\" + str(dl_db))"
   ]
  },
  {
   "cell_type": "markdown",
   "metadata": {},
   "source": [
    "**SGD update**\n",
    "\n",
    "<span style=\"color:red\">**(g)**</span> Assume that we use SGD with learning rate $\\eta=0.01$ to update the model parameters. What are the values of $W^2, b^2$ and $W^1, b^1$ after updating?\n",
    "<div style=\"text-align: right\"><span style=\"color:red\">[5 points]</span></div>\n",
    "\n",
    "<img src=part1_img\\sgd.jpg width=\"500\" align=\"center\"/>"
   ]
  },
  {
   "cell_type": "markdown",
   "metadata": {},
   "source": [
    "*Show your fomular*\n",
    "\n"
   ]
  },
  {
   "cell_type": "code",
   "execution_count": 23,
   "metadata": {},
   "outputs": [
    {
     "name": "stdout",
     "output_type": "stream",
     "text": [
      "w2 : [[ 1 -1 -1  2]\n",
      " [ 1 -1  1 -1]\n",
      " [-1  2 -1  2]]\n",
      "b2 : [[0.23390275]\n",
      " [0.33575011]\n",
      " [0.24567707]]\n",
      "w1 : [[ 1 -1  1]\n",
      " [ 1 -1 -1]\n",
      " [ 2 -1  2]\n",
      " [-1 -2  1]]\n",
      "b1 : [[0.99777033]\n",
      " [0.46594603]\n",
      " [0.41992336]\n",
      " [0.7771992 ]]\n",
      "cross-entropy : 2.565269344762209\n",
      "cross-entropy-g : -0.644467898776914\n"
     ]
    }
   ],
   "source": [
    "learning_rate = 0.01\n",
    "\n",
    "x = np.array([[1,-1,1.5]]).T\n",
    "y = 3\n",
    "\n",
    "W2 = W2 - (learning_rate*dl_dw2)\n",
    "b2 = b2 - (learning_rate*dl_db2.T)\n",
    "W1 = W1 - (learning_rate*dl_dw)\n",
    "b1 = b1 - (learning_rate*dl_db.T)\n",
    "\n",
    "print(\"w2 : \" + str(w2))\n",
    "print(\"b2 : \" + str(b2))\n",
    "print(\"w1 : \" + str(w1))\n",
    "print(\"b1 : \" + str(b1))\n",
    "\n",
    "h1_bar = (W1@x)+b1\n",
    "h1 = LeakyRelu(h1_bar)\n",
    "\n",
    "h2 = (W2@h1)+b2\n",
    "p = softmax(h2)\n",
    "\n",
    "yhat = p[y-1,0]\n",
    "\n",
    "ceg = np.log(yhat)\n",
    "\n",
    "print(\"cross-entropy : \" + str(ce))\n",
    "print(\"cross-entropy-g : \" + str(ceg))\n"
   ]
  },
  {
   "cell_type": "markdown",
   "metadata": {},
   "source": [
    "## <span style=\"color:#0b486b\">Part 2: Deep Neural Networks (DNN) </span>\n",
    "<div style=\"text-align: right\"><span style=\"color:red; font-weight:bold\">[Total marks for this part: 30 points]<span></div>\n",
    "\n",
    "The first part of this assignment is for you to demonstrate your basis knowledge in deep learning that you have acquired from the lectures and tutorials materials. Most of the contents in this assignment are drawn from **the tutorials covered from weeks 1 to 4**. Going through these materials before attempting this assignment is highly recommended."
   ]
  },
  {
   "cell_type": "markdown",
   "metadata": {},
   "source": [
    "In the first part of this assignment, you are going to work with the **FashionMNIST** dataset for *image recognition task*. It has the exact same format as MNIST (70,000 grayscale images of 28 × 28 pixels each with 10 classes), but the images represent fashion items rather than handwritten digits, so each class is more diverse, and the problem is significantly more challenging than MNIST."
   ]
  },
  {
   "cell_type": "markdown",
   "metadata": {},
   "source": [
    "####  <span style=\"color:red\">**Question 2.1**</span>. Load the Fashion MNIST using Keras datasets\n",
    "\n",
    "<div style=\"text-align: right\"> <span style=\"color:red\">[5 points]</span> </div>\n",
    "\n",
    "We first use keras incoporated in TensorFlow 2.x for loading the training and testing sets."
   ]
  },
  {
   "cell_type": "code",
   "execution_count": null,
   "metadata": {},
   "outputs": [],
   "source": [
    "import tensorflow as tf\n",
    "from tensorflow import keras\n",
    "import os\n",
    "import numpy as np\n",
    "from sklearn.datasets import load_svmlight_file\n",
    "import scipy.io as sio"
   ]
  },
  {
   "cell_type": "code",
   "execution_count": null,
   "metadata": {},
   "outputs": [],
   "source": [
    "tf.random.set_seed(31954081)"
   ]
  },
  {
   "cell_type": "markdown",
   "metadata": {},
   "source": [
    "We first use keras datasets in TF 2.x to load Fashion MNIST dataset."
   ]
  },
  {
   "cell_type": "code",
   "execution_count": null,
   "metadata": {},
   "outputs": [
    {
     "name": "stdout",
     "output_type": "stream",
     "text": [
      "Train: X =  (60000, 28, 28)\n",
      "Test: X =  (10000, 28, 28)\n",
      "[[[0 0 0 ... 0 0 0]\n",
      "  [0 0 0 ... 0 0 0]\n",
      "  [0 0 0 ... 0 0 0]\n",
      "  ...\n",
      "  [0 0 0 ... 0 0 0]\n",
      "  [0 0 0 ... 0 0 0]\n",
      "  [0 0 0 ... 0 0 0]]\n",
      "\n",
      " [[0 0 0 ... 0 0 0]\n",
      "  [0 0 0 ... 0 0 0]\n",
      "  [0 0 0 ... 0 0 0]\n",
      "  ...\n",
      "  [0 0 0 ... 0 0 0]\n",
      "  [0 0 0 ... 0 0 0]\n",
      "  [0 0 0 ... 0 0 0]]\n",
      "\n",
      " [[0 0 0 ... 0 0 0]\n",
      "  [0 0 0 ... 0 0 0]\n",
      "  [0 0 0 ... 0 0 0]\n",
      "  ...\n",
      "  [0 0 0 ... 0 0 0]\n",
      "  [0 0 0 ... 0 0 0]\n",
      "  [0 0 0 ... 0 0 0]]\n",
      "\n",
      " ...\n",
      "\n",
      " [[0 0 0 ... 0 0 0]\n",
      "  [0 0 0 ... 0 0 0]\n",
      "  [0 0 0 ... 0 0 0]\n",
      "  ...\n",
      "  [0 0 0 ... 0 0 0]\n",
      "  [0 0 0 ... 0 0 0]\n",
      "  [0 0 0 ... 0 0 0]]\n",
      "\n",
      " [[0 0 0 ... 0 0 0]\n",
      "  [0 0 0 ... 0 0 0]\n",
      "  [0 0 0 ... 0 0 0]\n",
      "  ...\n",
      "  [0 0 0 ... 0 0 0]\n",
      "  [0 0 0 ... 0 0 0]\n",
      "  [0 0 0 ... 0 0 0]]\n",
      "\n",
      " [[0 0 0 ... 0 0 0]\n",
      "  [0 0 0 ... 0 0 0]\n",
      "  [0 0 0 ... 0 0 0]\n",
      "  ...\n",
      "  [0 0 0 ... 0 0 0]\n",
      "  [0 0 0 ... 0 0 0]\n",
      "  [0 0 0 ... 0 0 0]]]\n",
      "[9 0 0 ... 3 0 5]\n"
     ]
    }
   ],
   "source": [
    "\n",
    "fashion_mnist = keras.datasets.fashion_mnist\n",
    "(X_train_full_img, y_train_full), (X_test_img, y_test) = fashion_mnist.load_data()\n",
    "\n",
    "print('Train: X = ', X_train_full_img.shape)\n",
    "print('Test: X = ', X_test_img.shape)\n",
    "print(X_train_full_img)\n",
    "print(y_train_full)"
   ]
  },
  {
   "cell_type": "markdown",
   "metadata": {},
   "source": [
    "The shape of X_train_full_img is $(60000, 28, 28 )$ and that of X_test_img is $(10000, 28, 28)$. We next convert them to matrices of vectors and store in X_train_full and X_test."
   ]
  },
  {
   "cell_type": "code",
   "execution_count": null,
   "metadata": {},
   "outputs": [
    {
     "name": "stdout",
     "output_type": "stream",
     "text": [
      "(60000, 784) (60000,)\n",
      "(10000, 784) (10000,)\n"
     ]
    }
   ],
   "source": [
    "num_train = X_train_full_img.shape[0]\n",
    "num_test = X_test_img.shape[0]\n",
    "X_train_full = X_train_full_img.reshape(num_train, -1)\n",
    "X_test = X_test_img.reshape(num_test, -1)\n",
    "print(X_train_full.shape, y_train_full.shape)\n",
    "print(X_test.shape, y_test.shape)"
   ]
  },
  {
   "cell_type": "markdown",
   "metadata": {},
   "source": [
    "####  <span style=\"color:red\">**Question 2.2**</span>. Preprocess the dataset and split into training, validation, and testing datasets\n",
    "\n",
    "<div style=\"text-align: right\"> <span style=\"color:red\">[5 points]</span> </div>\n",
    "\n",
    "You need to write the code to address the following requirements:\n",
    "- Print out the dimensions of X_train_full and X_test\n",
    "- Use $10 \\%$ of X_train_full for validation and the rest of X_train_full for training. This splits X_train_full and y_train_full into X_train, y_train ($90 \\%$) and X_valid, y_valid ($10 \\%$).\n",
    "- Finally, scale the pixels of X_train, X_valid, and X_test to $[0,1]$) (i.e., $X = X/255.0$).\n",
    "\n",
    "You have now the separate training, validation, and testing sets for training your model.\n",
    "\n"
   ]
  },
  {
   "cell_type": "code",
   "execution_count": null,
   "metadata": {},
   "outputs": [],
   "source": [
    "import math\n",
    "from sklearn.model_selection import train_test_split\n",
    "from sklearn import preprocessing\n",
    "\n",
    "N = X_train_full.shape[0]\n",
    "i = math.floor(0.9*N)\n",
    "X_train, y_train = X_train_full[:i], y_train_full[:i]\n",
    "X_valid, y_valid = X_train_full[i:], y_train_full[i:]\n",
    "#X_train, X_valid, y_train, y_valid = train_test_split(X1, y1, test_size = float(valid_size)/(valid_size+ train_size))\n",
    "\n",
    "\n",
    "#X_train, X_valid, X_test = NormalizeData(X_train), NormalizeData(X_valid), NormalizeData(X_test)\n",
    "x_train, X_valid, X_test = X_train/255.0, X_valid/255.0, X_test/255.0"
   ]
  },
  {
   "cell_type": "markdown",
   "metadata": {},
   "source": [
    "####  <span style=\"color:red\">**Question 2.3**</span>. Visualize some images in the training set with labels\n",
    "\n",
    "<div style=\"text-align: right\"> <span style=\"color:red\">[5 points]</span> </div>\n",
    "\n",
    "You are required to write the code to show **random** $36$ images in X_train_full_img (which is an array of images) with labels as in the following figure. Note that the class names of Fashion MNIST are as follows \n",
    "- \"1:T-shirt/top\", \"2:Trouser\", \"3:Pullover\", \"4:Dress\", \"5:Coat\", \"6:Sandal\", \"7:Shirt\", \"8:Sneaker\", \"9:Bag\", \"10:Ankle boot\"\n",
    "\n",
    "<img src=\"Figures/Fashion_MNIST.png\" width=\"450\" align=\"center\"/>"
   ]
  },
  {
   "cell_type": "code",
   "execution_count": null,
   "metadata": {},
   "outputs": [],
   "source": [
    "import matplotlib.pyplot as plt\n",
    "%matplotlib inline"
   ]
  },
  {
   "cell_type": "code",
   "execution_count": null,
   "metadata": {},
   "outputs": [
    {
     "data": {
      "image/png": "[encoded data removed]",
      "text/plain": [
       "<Figure size 648x864 with 36 Axes>"
      ]
     },
     "metadata": {
      "needs_background": "light"
     },
     "output_type": "display_data"
    }
   ],
   "source": [
    "# specify the number of rows and columns you want to see\n",
    "num_row = 6\n",
    "num_col = 6\n",
    "\n",
    "# get a segment of the dataset\n",
    "num = num_row*num_col\n",
    "images = X_train_full_img[:num]\n",
    "labels = y_train_full[:num]\n",
    "desc = [\"T-shirt/top\",\"Trouser\", \"Pullover\", \"Dress\", \"Coat\", \"Sandal\", \"Shirt\", \"Sneaker\", \"Bag\", \"Ankle boot\"]\n",
    "\n",
    "# plot images\n",
    "fig, axes = plt.subplots(num_row, num_col, figsize=(1.5*num_col,2*num_row))\n",
    "for i in range(num_row*num_col):\n",
    "    ax = axes[i//num_col, i%num_col]\n",
    "    ax.imshow(images[i], cmap=plt.cm.binary)\n",
    "    ax.set_title('{} :'.format(labels[i]+1)+ desc[labels[i]])\n",
    "plt.tight_layout()\n",
    "plt.show()\n"
   ]
  },
  {
   "cell_type": "markdown",
   "metadata": {},
   "source": [
    "####  <span style=\"color:red\">**Question 2.4**</span>. Write code for the feed-forward neural net using TF 2.x\n",
    "\n",
    "<div style=\"text-align: right\"> <span style=\"color:red\">[5 points]</span> </div>"
   ]
  },
  {
   "cell_type": "markdown",
   "metadata": {},
   "source": [
    "We now develop a feed-forward neural network with the architecture $784 \\rightarrow 20(ReLU) \\rightarrow 40(ReLU) \\rightarrow 10(softmax)$. You can choose your own way to implement your network and an optimizer of interest. You should train model in $20$ epochs and evaluate the trained model on the test set."
   ]
  },
  {
   "cell_type": "code",
   "execution_count": null,
   "metadata": {},
   "outputs": [],
   "source": [
    "import tensorflow as tf\n",
    "from tensorflow.keras.layers import Dense, Flatten\n",
    "from tensorflow.keras.models import Sequential"
   ]
  },
  {
   "cell_type": "code",
   "execution_count": null,
   "metadata": {},
   "outputs": [],
   "source": [
    "#train_size= int(X_train.shape[0])\n",
    "#n_features= int(X_train.shape[1])\n",
    "#n_classes= len(np.unique(y_train))"
   ]
  },
  {
   "cell_type": "code",
   "execution_count": null,
   "metadata": {},
   "outputs": [],
   "source": [
    "dnn_model = Sequential() #based on the sequential we add dense layer and we can describe the input there and what activation function\n",
    "dnn_model.add(Dense(units=20,  input_shape=(784,), activation='relu'))\n",
    "dnn_model.add(Dense(units=40, activation='relu'))\n",
    "dnn_model.add(Dense(units=10, activation='softmax'))"
   ]
  },
  {
   "cell_type": "code",
   "execution_count": null,
   "metadata": {},
   "outputs": [
    {
     "name": "stdout",
     "output_type": "stream",
     "text": [
      "Model: \"sequential_3\"\n",
      "_________________________________________________________________\n",
      "Layer (type)                 Output Shape              Param #   \n",
      "=================================================================\n",
      "dense_18 (Dense)             (None, 20)                15700     \n",
      "_________________________________________________________________\n",
      "dense_19 (Dense)             (None, 40)                840       \n",
      "_________________________________________________________________\n",
      "dense_20 (Dense)             (None, 10)                410       \n",
      "=================================================================\n",
      "Total params: 16,950\n",
      "Trainable params: 16,950\n",
      "Non-trainable params: 0\n",
      "_________________________________________________________________\n"
     ]
    }
   ],
   "source": [
    "#dnn_model.build()\n",
    "#dnn_model.summary()"
   ]
  },
  {
   "cell_type": "code",
   "execution_count": null,
   "metadata": {},
   "outputs": [
    {
     "data": {
      "text/plain": [
       "[<keras.layers.core.Dense at 0x274c3c291c0>,\n",
       " <keras.layers.core.Dense at 0x274d0ef9fd0>,\n",
       " <keras.layers.core.Dense at 0x274d0b185e0>]"
      ]
     },
     "execution_count": 81,
     "metadata": {},
     "output_type": "execute_result"
    }
   ],
   "source": [
    "#dnn_model.layers"
   ]
  },
  {
   "cell_type": "code",
   "execution_count": null,
   "metadata": {},
   "outputs": [
    {
     "name": "stdout",
     "output_type": "stream",
     "text": [
      "dense_18\n"
     ]
    }
   ],
   "source": [
    "#hidden1 = dnn_model.layers[0]\n",
    "#hidden1\n",
    "#print(hidden1.name)"
   ]
  },
  {
   "cell_type": "code",
   "execution_count": null,
   "metadata": {},
   "outputs": [],
   "source": [
    "#weights, biases = hidden1.get_weights()"
   ]
  },
  {
   "cell_type": "code",
   "execution_count": null,
   "metadata": {},
   "outputs": [
    {
     "name": "stdout",
     "output_type": "stream",
     "text": [
      "(784, 20)\n",
      "(20,)\n"
     ]
    }
   ],
   "source": [
    "#print(weights.shape)\n",
    "#print(biases.shape)"
   ]
  },
  {
   "cell_type": "code",
   "execution_count": null,
   "metadata": {},
   "outputs": [],
   "source": [
    "dnn_model.compile(optimizer='adam', \n",
    "                  loss='sparse_categorical_crossentropy', \n",
    "                  metrics=['accuracy']) "
   ]
  },
  {
   "cell_type": "code",
   "execution_count": null,
   "metadata": {},
   "outputs": [
    {
     "name": "stdout",
     "output_type": "stream",
     "text": [
      "Epoch 1/20\n",
      "1688/1688 [==============================] - 68s 38ms/step - loss: 2.4085 - accuracy: 0.2036 - val_loss: 2.3794 - val_accuracy: 0.1023\n",
      "Epoch 2/20\n",
      "1688/1688 [==============================] - 4s 3ms/step - loss: 1.5866 - accuracy: 0.3522 - val_loss: 2.7686 - val_accuracy: 0.0997\n",
      "Epoch 3/20\n",
      "1688/1688 [==============================] - 8s 5ms/step - loss: 1.3159 - accuracy: 0.4437 - val_loss: 3.1271 - val_accuracy: 0.1008\n",
      "Epoch 4/20\n",
      "1688/1688 [==============================] - 6s 4ms/step - loss: 1.3028 - accuracy: 0.4462 - val_loss: 2.9378 - val_accuracy: 0.1080\n",
      "Epoch 5/20\n",
      "1688/1688 [==============================] - 7s 4ms/step - loss: 1.2615 - accuracy: 0.4577 - val_loss: 3.2571 - val_accuracy: 0.1007\n",
      "Epoch 6/20\n",
      "1688/1688 [==============================] - 6s 4ms/step - loss: 1.2780 - accuracy: 0.4534 - val_loss: 3.2125 - val_accuracy: 0.0977\n",
      "Epoch 7/20\n",
      "1688/1688 [==============================] - 6s 4ms/step - loss: 1.2655 - accuracy: 0.4566 - val_loss: 3.2332 - val_accuracy: 0.0942\n",
      "Epoch 8/20\n",
      "1688/1688 [==============================] - 6s 4ms/step - loss: 1.2598 - accuracy: 0.4582 - val_loss: 2.9774 - val_accuracy: 0.0947\n",
      "Epoch 9/20\n",
      "1688/1688 [==============================] - 4s 3ms/step - loss: 1.2256 - accuracy: 0.4675 - val_loss: 3.1838 - val_accuracy: 0.0995\n",
      "Epoch 10/20\n",
      "1688/1688 [==============================] - 9s 5ms/step - loss: 1.2420 - accuracy: 0.4629 - val_loss: 3.1363 - val_accuracy: 0.1050\n",
      "Epoch 11/20\n",
      "1688/1688 [==============================] - 7s 4ms/step - loss: 1.2434 - accuracy: 0.4648 - val_loss: 2.9361 - val_accuracy: 0.1147\n",
      "Epoch 12/20\n",
      "1688/1688 [==============================] - 5s 3ms/step - loss: 1.2066 - accuracy: 0.4846 - val_loss: 3.1363 - val_accuracy: 0.1020\n",
      "Epoch 13/20\n",
      "1688/1688 [==============================] - 5s 3ms/step - loss: 1.1550 - accuracy: 0.5159 - val_loss: 3.1813 - val_accuracy: 0.1203\n",
      "Epoch 14/20\n",
      "1688/1688 [==============================] - 5s 3ms/step - loss: 1.0611 - accuracy: 0.5488 - val_loss: 3.3547 - val_accuracy: 0.1063\n",
      "Epoch 15/20\n",
      "1688/1688 [==============================] - 6s 3ms/step - loss: 1.0391 - accuracy: 0.5586 - val_loss: 3.2665 - val_accuracy: 0.1190\n",
      "Epoch 16/20\n",
      "1688/1688 [==============================] - 7s 4ms/step - loss: 1.0386 - accuracy: 0.5585 - val_loss: 2.9219 - val_accuracy: 0.1783\n",
      "Epoch 17/20\n",
      "1688/1688 [==============================] - 5s 3ms/step - loss: 1.0205 - accuracy: 0.5611 - val_loss: 3.2928 - val_accuracy: 0.1175\n",
      "Epoch 18/20\n",
      "1688/1688 [==============================] - 6s 3ms/step - loss: 1.0115 - accuracy: 0.5715 - val_loss: 3.3254 - val_accuracy: 0.1307\n",
      "Epoch 19/20\n",
      "1688/1688 [==============================] - 6s 4ms/step - loss: 0.9863 - accuracy: 0.5807 - val_loss: 3.4252 - val_accuracy: 0.1187\n",
      "Epoch 20/20\n",
      "1688/1688 [==============================] - 4s 3ms/step - loss: 0.9746 - accuracy: 0.5795 - val_loss: 3.3957 - val_accuracy: 0.1378\n"
     ]
    },
    {
     "data": {
      "text/plain": [
       "<keras.callbacks.History at 0x2748a6b6dc0>"
      ]
     },
     "execution_count": 116,
     "metadata": {},
     "output_type": "execute_result"
    }
   ],
   "source": [
    "from tensorflow import keras\n",
    "logdir = \"tf_logs/\"\n",
    "\n",
    "# Init a tensorboard_callback \n",
    "tensorboard_callback = keras.callbacks.TensorBoard(log_dir=logdir)\n",
    "\n",
    "# Call the fit method, passing the tensorboard_callback \n",
    "dnn_model.fit(x=X_train, y=y_train, batch_size=32, epochs=20, validation_data=(X_valid, y_valid), callbacks=[tensorboard_callback])"
   ]
  },
  {
   "cell_type": "markdown",
   "metadata": {},
   "source": [
    "####  <span style=\"color:red\">**Question 2.5**</span>. Tuning hyper-parameters with grid search\n",
    "<div style=\"text-align: right\"> <span style=\"color:red\">[5 points]</span> </div>\n",
    "\n",
    "Assume that you need to tune the number of neurons on the first and second hidden layers $n_1 \\in \\{20, 40\\}$, $n_2 \\in \\{20, 40\\}$  and the used activation function  $act \\in \\{sigmoid, tanh, relu\\}$. The network has the architecture pattern $784 \\rightarrow n_1 (act) \\rightarrow n_2(act) \\rightarrow 10(softmax)$ where $n_1, n_2$, and $act$ are in their grides. Write the code to tune the hyper-parameters $n_1, n_2$, and $act$. Note that you can freely choose the optimizer and learning rate of interest for this task."
   ]
  },
  {
   "cell_type": "code",
   "execution_count": null,
   "metadata": {},
   "outputs": [],
   "source": [
    "class MyDNN(tf.keras.Model):\n",
    "    def __init__(self, n1, n2, act1, act2, n_classes= 10):\n",
    "        super(MyDNN, self).__init__()\n",
    "        self.n_classes = n_classes\n",
    "        self.dense1 = tf.keras.layers.Dense(n1, input_shape =(784,), activation=act1)\n",
    "        self.dense2 = tf.keras.layers.Dense(n2, activation= act2)\n",
    "        self.dense3 = tf.keras.layers.Dense(self.n_classes, activation= 'softmax')  \n",
    "        \n",
    "    \n",
    "    def call(self,X): #X is the input, method call specifies how to compute the output from the input X\n",
    "        h = self.dense1(X)\n",
    "        h = self.dense2(h)\n",
    "        h = self.dense3(h)\n",
    "        return h\n",
    "#dnn_model = MyDNN(10,20,'softmax','relu')\n",
    "#dnn_model.compile(optimizer='adam', loss='sparse_categorical_crossentropy', metrics=['accuracy'])"
   ]
  },
  {
   "cell_type": "code",
   "execution_count": null,
   "metadata": {},
   "outputs": [
    {
     "name": "stdout",
     "output_type": "stream",
     "text": [
      "188/188 [==============================] - 2s 4ms/step - loss: 2.3091 - accuracy: 0.1055\n",
      "188/188 [==============================] - 1s 3ms/step - loss: 1.6849 - accuracy: 0.2725\n",
      "188/188 [==============================] - 2s 4ms/step - loss: 0.8426 - accuracy: 0.6557\n",
      "188/188 [==============================] - 1s 4ms/step - loss: 1.7856 - accuracy: 0.2020\n",
      "188/188 [==============================] - 1s 4ms/step - loss: 1.4280 - accuracy: 0.3073\n",
      "188/188 [==============================] - ETA: 0s - loss: 0.6541 - accuracy: 0.75 - 15s 4ms/step - loss: 0.6521 - accuracy: 0.7532\n",
      "188/188 [==============================] - 2s 5ms/step - loss: 2.2692 - accuracy: 0.1208\n",
      "188/188 [==============================] - 1s 4ms/step - loss: 0.7618 - accuracy: 0.7063\n",
      "188/188 [==============================] - 1s 4ms/step - loss: 1.9022 - accuracy: 0.5078\n",
      "188/188 [==============================] - 1s 3ms/step - loss: 2.5962 - accuracy: 0.1027\n",
      "188/188 [==============================] - 1s 3ms/step - loss: 1.7296 - accuracy: 0.1963\n",
      "188/188 [==============================] - 1s 3ms/step - loss: 0.9279 - accuracy: 0.6178\n",
      "188/188 [==============================] - 1s 2ms/step - loss: 2.7410 - accuracy: 0.1977\n",
      "188/188 [==============================] - 1s 4ms/step - loss: 1.4694 - accuracy: 0.2947\n",
      "188/188 [==============================] - 1s 3ms/step - loss: 0.6573 - accuracy: 0.7568\n",
      "188/188 [==============================] - 1s 3ms/step - loss: 1.7417 - accuracy: 0.1968\n",
      "188/188 [==============================] - 1s 4ms/step - loss: 0.8574 - accuracy: 0.6638\n",
      "188/188 [==============================] - 1s 4ms/step - loss: 1.1850 - accuracy: 0.6388\n",
      "188/188 [==============================] - 1s 5ms/step - loss: 2.3091 - accuracy: 0.1055\n",
      "188/188 [==============================] - 1s 4ms/step - loss: 1.7421 - accuracy: 0.1978\n",
      "188/188 [==============================] - 1s 2ms/step - loss: 0.7427 - accuracy: 0.7160\n",
      "188/188 [==============================] - 2s 3ms/step - loss: 2.3160 - accuracy: 0.1027\n",
      "188/188 [==============================] - 1s 3ms/step - loss: 1.3335 - accuracy: 0.4045\n"
     ]
    }
   ],
   "source": [
    "lst_opts = [tf.keras.optimizers.Adam(), tf.keras.optimizers.RMSprop(), tf.keras.optimizers.SGD(momentum=0.2)]\n",
    "lst_learning_rates = [0.1, 0.01, 0.001]\n",
    "lst_n1 = [20,40]\n",
    "lst_n2 = [20,40]\n",
    "lst_act = ['sigmoid','tanh','relu']\n",
    "best_acc= - np.inf\n",
    "best_history = None\n",
    "opt = tf.keras.optimizers.SGD(learning_rate=0.001)\n",
    "best_n1 = None\n",
    "best_n2 = None\n",
    "best_act = None\n",
    "\n",
    "\n",
    "for n1 in lst_n1:\n",
    "    for n2 in lst_n2:\n",
    "        for act1 in lst_act:\n",
    "            for act2 in lst_act:\n",
    "                for opt in lst_opts:\n",
    "                    for lr in lst_learning_rates:\n",
    "                        dnn = MyDNN(n1, n2, act1, act2, n_classes=10)\n",
    "                        opt.learning_rate = lr\n",
    "                        dnn.compile(optimizer=opt, loss='sparse_categorical_crossentropy', metrics=['accuracy'])\n",
    "                        #print(\"Training with optimizer = {}, learning rate = {}\".format(opt.get_config()['name'], lr))\n",
    "                        #dnn.fit(x=X_train, y=y_train, batch_size=32, epochs=10, validation_data=(X_valid, y_valid), callbacks=[tensorboard_callback])\n",
    "                        dnn.fit(X_train, y_train, batch_size=32, epochs=10, verbose=0)\n",
    "                        valid_loss, valid_acc = dnn.evaluate(X_valid, y_valid)\n",
    "                        #print('\\tvalid acc = {}, valid loss = {}'.format(valid_acc, valid_loss))\n",
    "                        if(valid_acc > best_acc):\n",
    "                            best_acc = valid_acc\n",
    "                            best_model = dnn\n",
    "                            best_opt = opt\n",
    "                            best_lr = lr\n",
    "                            best_n1 = n1\n",
    "                            best_n2 = n2\n",
    "                            best_act1 = act1\n",
    "                            best_act2 = act2\n",
    "\n",
    "#print('\\nThe best model is with optimizer = {}, learning rate = {}'.format(best_opt.get_config()['name'], best_lr))\n",
    "print(\"best n1 : \" + str(best_n1) + \", best n2 = \" + str(best_n2) + \", best act + \" + str(best_act))\n",
    "#best_model.save('my_model', save_format='tf')\n",
    "#print('Saved the best model to hard disk')"
   ]
  },
  {
   "cell_type": "code",
   "execution_count": null,
   "metadata": {},
   "outputs": [],
   "source": [
    "print('\\nThe best model is with optimizer = {}, learning rate = {}'.format(best_opt.get_config()['name'], best_lr))\n",
    "print(\"best n1 : \" + str(best_n1) + \", best n2 = \" + str(best_n2) + \", best act + \" + str(best_act))\n",
    "best_model.save('my_model', save_format='tf')\n",
    "print('Saved the best model to hard disk')"
   ]
  },
  {
   "cell_type": "code",
   "execution_count": null,
   "metadata": {},
   "outputs": [],
   "source": [
    "restored_model = tf.keras.models.load_model('my_model')\n",
    "print('Evaluating the best model on the test set')\n",
    "_, test_acc= restored_model.evaluate(X_test, y_test)\n",
    "print('Test acc= {}'.format(test_acc))"
   ]
  },
  {
   "cell_type": "code",
   "execution_count": null,
   "metadata": {},
   "outputs": [],
   "source": [
    "import pandas as pd\n",
    "\n",
    "pd.DataFrame(best_history.history).plot(figsize=(8, 5))\n",
    "plt.grid(True)\n",
    "plt.xlabel(\"Epoch\") \n",
    "plt.gca().set_ylim(0, 1) # set the vertical range to [0-1]\n",
    "plt.show()"
   ]
  },
  {
   "cell_type": "markdown",
   "metadata": {},
   "source": [
    "####  <span style=\"color:red\">**Question 2.6**</span>. Experimenting with **the label smoothing** technique\n",
    "<div style=\"text-align: right\"> <span style=\"color:red\">[5 points]</span> </div>\n",
    "\n",
    "Implement the label smoothing technique (i.e., [link for main paper](https://papers.nips.cc/paper/2019/file/f1748d6b0fd9d439f71450117eba2725-Paper.pdf) from Goeff Hinton) by yourself. Note that you cannot use the built-in label-smoothing loss function in TF2.x. Try the label smoothing technique with $\\alpha =0.1, 0.15, 0.2$ and report the performances. You need to examine the label smoothing technique with the best architecture obtained in **Question 2.5**."
   ]
  },
  {
   "cell_type": "code",
   "execution_count": null,
   "metadata": {},
   "outputs": [],
   "source": [
    "#Insert your code here. You can add more cells if necessary\n",
    "import torch\n",
    "import numpy as np\n",
    "import torch.nn as nn\n",
    "import torch.nn.functional as F\n",
    "from torch.autograd import Variable\n",
    "from torch.nn.modules.loss import _WeightedLoss\n",
    "\n",
    "#y_ls = (1 - α) * y_hot + α / K #loss formulae\n",
    "#∇CE = p - y = softmax(z) - y\n",
    "#where cs(x) is the cross_entropyof x (i.e. - log(px)), and i is the correct class\n",
    "\n",
    "class LabelSmoothingLoss(torch.nn.Module):\n",
    "    def __init__(self, epsilon: float = 0.1, \n",
    "                 reduction=\"mean\", weight=None):\n",
    "        super(LabelSmoothingLoss, self).__init__()\n",
    "        self.epsilon   = epsilon\n",
    "        self.reduction = reduction\n",
    "        self.weight    = weight\n",
    "\n",
    "    def reduce_loss(self, loss):\n",
    "        return loss.mean() if self.reduction == 'mean' else loss.sum() \\\n",
    "         if self.reduction == 'sum' else loss\n",
    "\n",
    "    def linear_combination(self, i, j):\n",
    "        return (1 - self.epsilon) * i + self.epsilon * j\n",
    "\n",
    "    def forward(self, predict_tensor, target):\n",
    "        assert 0 <= self.epsilon < 1\n",
    "\n",
    "        if self.weight is not None:\n",
    "            self.weight = self.weight.to(predict_tensor.device)\n",
    "\n",
    "        num_classes = predict_tensor.size(-1)\n",
    "        \n",
    "        log_preds = F.log_softmax(predict_tensor, dim=-1)\n",
    "        \n",
    "        loss = self.reduce_loss(-log_preds.sum(dim=-1))\n",
    "        \n",
    "        negative_log_likelihood_loss = F.nll_loss(\n",
    "            log_preds, target, reduction=self.reduction, weight=self.weight\n",
    "        )\n",
    "        return self.linear_combination(negative_log_likelihood_loss, loss / num_classes,)"
   ]
  },
  {
   "cell_type": "code",
   "execution_count": null,
   "metadata": {},
   "outputs": [],
   "source": [
    "loss_criterion = LabelSmoothingLoss(epsilon=0.1)\n",
    "\n",
    "predict_tensor = torch.FloatTensor([[0, 0.2, 0.7, 0.1, 0],\n",
    "                                [0, 0.9, 0.2, 0.2, 1], \n",
    "                                [1, 0.2, 0.7, 0.9, 1]])\n",
    "\n",
    "target = Variable(torch.LongTensor([2, 1, 0]))\n",
    "\n",
    "loss_label_smoothed = loss_criterion(Variable(predict_tensor), target )\n",
    "\n",
    "print(loss_label_smoothed)"
   ]
  },
  {
   "cell_type": "code",
   "execution_count": null,
   "metadata": {},
   "outputs": [],
   "source": [
    "loss_criterion = LabelSmoothingLoss(epsilon=0.15)\n",
    "\n",
    "predict_tensor = torch.FloatTensor([[0, 0.2, 0.7, 0.1, 0],\n",
    "                                [0, 0.9, 0.2, 0.2, 1], \n",
    "                                [1, 0.2, 0.7, 0.9, 1]])\n",
    "\n",
    "target = Variable(torch.LongTensor([2, 1, 0]))\n",
    "\n",
    "loss_label_smoothed = loss_criterion(Variable(predict_tensor), target )\n",
    "\n",
    "print(loss_label_smoothed)"
   ]
  },
  {
   "cell_type": "code",
   "execution_count": null,
   "metadata": {},
   "outputs": [],
   "source": [
    "loss_criterion = LabelSmoothingLoss(epsilon=0.2)\n",
    "\n",
    "predict_tensor = torch.FloatTensor([[0, 0.2, 0.7, 0.1, 0],\n",
    "                                [0, 0.9, 0.2, 0.2, 1], \n",
    "                                [1, 0.2, 0.7, 0.9, 1]])\n",
    "\n",
    "target = Variable(torch.LongTensor([2, 1, 0]))\n",
    "\n",
    "loss_label_smoothed = loss_criterion(Variable(predict_tensor), target )\n",
    "\n",
    "print(loss_label_smoothed)"
   ]
  },
  {
   "cell_type": "code",
   "execution_count": null,
   "metadata": {},
   "outputs": [],
   "source": [
    "torch.nn.CrossEntropyLoss(weight=None, size_average=None, \n",
    "                          ignore_index=- 100, reduce=None, \n",
    "                          reduction='mean', label_smoothing=0.1)"
   ]
  },
  {
   "cell_type": "code",
   "execution_count": null,
   "metadata": {},
   "outputs": [],
   "source": [
    "#Insert your code here. You can add more cells if necessary\n",
    "from sam import SAM\n",
    "...\n",
    "\n",
    "model = YourModel()\n",
    "base_optimizer = torch.optim.SGD  # define an optimizer for the \"sharpness-aware\" update\n",
    "optimizer = SAM(model.parameters(), base_optimizer, lr=0.1, momentum=0.9)\n",
    "...\n",
    "\n",
    "for input, output in data:\n",
    "\n",
    "  # first forward-backward pass\n",
    "  loss = loss_function(output, model(input))  # use this loss for any training statistics\n",
    "  loss.backward()\n",
    "  optimizer.first_step(zero_grad=True)\n",
    "  \n",
    "  # second forward-backward pass\n",
    "  loss_function(output, model(input)).backward()  # make sure to do a full forward pass\n",
    "  optimizer.second_step(zero_grad=True)\n",
    "\n"
   ]
  },
  {
   "cell_type": "markdown",
   "metadata": {},
   "source": [
    "--- \n",
    "**<div style=\"text-align: center\"> <span style=\"color:black\">END OF  PART 1 AND 2</span> </div>**\n",
    "**<div style=\"text-align: center\"> <span style=\"color:black\">GOOD LUCK WITH YOUR ASSIGNMENT 1!</span> </div>**"
   ]
  }
 ],
 "metadata": {
  "kernelspec": {
   "display_name": "Python 3.9.12 ('tf2_cpu')",
   "language": "python",
   "name": "python3"
  },
  "language_info": {
   "codemirror_mode": {
    "name": "ipython",
    "version": 3
   },
   "file_extension": ".py",
   "mimetype": "text/x-python",
   "name": "python",
   "nbconvert_exporter": "python",
   "pygments_lexer": "ipython3",
   "version": "3.9.12"
  },
  "vscode": {
   "interpreter": {
    "hash": "523999447dcfe4b0255d0353740a1d68139225d37404ec5e2b7cca5deb15a582"
   }
  }
 },
 "nbformat": 4,
 "nbformat_minor": 4
}
